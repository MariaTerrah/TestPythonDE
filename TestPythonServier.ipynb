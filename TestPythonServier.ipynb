{
  "nbformat": 4,
  "nbformat_minor": 0,
  "metadata": {
    "colab": {
      "provenance": []
    },
    "kernelspec": {
      "name": "python3",
      "display_name": "Python 3"
    },
    "language_info": {
      "name": "python"
    }
  },
  "cells": [
    {
      "cell_type": "markdown",
      "source": [
        "# I) Python et Data Engineering"
      ],
      "metadata": {
        "id": "OV2Vifo1n2qn"
      }
    },
    {
      "cell_type": "code",
      "source": [
        "\n",
        "import pandas as pd\n",
        "import json\n"
      ],
      "metadata": {
        "id": "yvQ59gR7t2kv"
      },
      "execution_count": 16,
      "outputs": []
    },
    {
      "cell_type": "code",
      "execution_count": 17,
      "metadata": {
        "colab": {
          "base_uri": "https://localhost:8080/"
        },
        "id": "aJK16-xVQaum",
        "outputId": "912a5548-c107-48ce-99ce-4ad6694752a9"
      },
      "outputs": [
        {
          "output_type": "stream",
          "name": "stdout",
          "text": [
            "Drugs Data:\n",
            "  atccode             drug\n",
            "0   A04AD  DIPHENHYDRAMINE\n",
            "1   S03AA     TETRACYCLINE\n",
            "2   V03AB          ETHANOL\n",
            "3   A03BA         ATROPINE\n",
            "4   A01AD      EPINEPHRINE\n",
            "\n",
            "Clinical Trials Data:\n",
            "            id  \\\n",
            "0  NCT01967433   \n",
            "1  NCT04189588   \n",
            "2  NCT04237090   \n",
            "3  NCT04237091   \n",
            "4  NCT04153396   \n",
            "\n",
            "                                                                                                                                                        scientific_title  \\\n",
            "0                                                                    Use of Diphenhydramine as an Adjunctive Sedative for Colonoscopy in Patients Chronically on Opioids   \n",
            "1                                                                                   Phase 2 Study IV QUZYTTIR™ (Cetirizine Hydrochloride Injection) vs V Diphenhydramine   \n",
            "2                                                                                                                                                                          \n",
            "3  Feasibility of a Randomized Controlled Clinical Trial Comparing the Use of Cetirizine to Replace Diphenhydramine in the Prevention of Reactions Related to Paclitaxel   \n",
            "4                                              Preemptive Infiltration With Betamethasone and Ropivacaine for Postoperative Pain in Laminoplasty or \\xc3\\xb1 Laminectomy   \n",
            "\n",
            "             date                            journal  \n",
            "0  1 January 2020       Journal of emergency nursing  \n",
            "1  1 January 2020       Journal of emergency nursing  \n",
            "2  1 January 2020       Journal of emergency nursing  \n",
            "3  1 January 2020       Journal of emergency nursing  \n",
            "4  1 January 2020  Hôpitaux Universitaires de Genève  \n",
            "\n",
            "PubMed CSV Data:\n",
            "   id  \\\n",
            "0   1   \n",
            "1   2   \n",
            "2   3   \n",
            "3   4   \n",
            "4   5   \n",
            "\n",
            "                                                                                                                             title  \\\n",
            "0                         A 44-year-old man with erythema of the face diphenhydramine, neck, and chest, weakness, and palpitations   \n",
            "1  An evaluation of benadryl, pyribenzamine, and other so-called diphenhydramine antihistaminic drugs in the treatment of allergy.   \n",
            "2                                                        Diphenhydramine hydrochloride helps symptoms of ciguatera fish poisoning.   \n",
            "3                                                        Tetracycline Resistance Patterns of Lactobacillus buchneri Group Strains.   \n",
            "4                                                                    Appositional Tetracycline bone formation rates in the Beagle.   \n",
            "\n",
            "         date                                  journal  \n",
            "0  01/01/2019             Journal of emergency nursing  \n",
            "1  01/01/2019             Journal of emergency nursing  \n",
            "2  02/01/2019                The Journal of pediatrics  \n",
            "3  01/01/2020               Journal of food protection  \n",
            "4  02/01/2020  American journal of veterinary research  \n",
            "\n",
            "PubMed JSON Data:\n",
            "   id  \\\n",
            "0   9   \n",
            "1  10   \n",
            "2  11   \n",
            "3  12   \n",
            "4       \n",
            "\n",
            "                                                                                                                                                                   title  \\\n",
            "0  Gold nanoparticles synthesized from Euphorbia fischeriana root by green route method alleviates the isoprenaline hydrochloride induced myocardial infarction in rats.   \n",
            "1                                                                           Clinical implications of umbilical artery Doppler changes after betamethasone administration   \n",
            "2                                                         Effects of Topical Application of Betamethasone on Imiquimod-induced Psoriasis-like Skin Inflammation in Mice.   \n",
            "3                              Comparison of pressure release, phonophoresis and dry needling in treatment of latent myofascial trigger point of upper trapezius muscle.   \n",
            "4       Comparison of pressure BETAMETHASONE release, phonophoresis and dry needling in treatment of latent myofascial trigger point of upper trapezius ATROPINE muscle.   \n",
            "\n",
            "         date                                                 journal  \n",
            "0  01/01/2020  Journal of photochemistry and photobiology. B, Biology  \n",
            "1  01/01/2020       The journal of maternal-fetal & neonatal medicine  \n",
            "2  01/01/2020      Journal of back and musculoskeletal rehabilitation  \n",
            "3  01/03/2020      Journal of back and musculoskeletal rehabilitation  \n",
            "4  01/03/2020       The journal of maternal-fetal & neonatal medicine  \n"
          ]
        }
      ],
      "source": [
        "\n",
        "\n",
        "# Chargement des fichiers\n",
        "\n",
        "drugs_df = pd.read_csv('/content/drugs.csv')\n",
        "clinical_trials_df = pd.read_csv('/content/clinical_trials.csv',encoding='utf-8')\n",
        "pubmed_csv_df = pd.read_csv('/content/pubmed.csv')\n",
        "\n",
        "\n",
        "with open('/content/pubmed.json', 'r') as f:\n",
        "    pubmed_json_df = pd.DataFrame(json.load(f))\n",
        "\n",
        "\n",
        "print(\"Drugs Data:\")\n",
        "print(drugs_df.head())\n",
        "\n",
        "print(\"\\nClinical Trials Data:\")\n",
        "print(clinical_trials_df.head())\n",
        "\n",
        "print(\"\\nPubMed CSV Data:\")\n",
        "print(pubmed_csv_df.head())\n",
        "\n",
        "print(\"\\nPubMed JSON Data:\")\n",
        "print(pubmed_json_df.head())\n"
      ]
    },
    {
      "cell_type": "markdown",
      "source": [
        "# Data cleansing"
      ],
      "metadata": {
        "id": "qKmgsDi5ar2v"
      }
    },
    {
      "cell_type": "markdown",
      "source": [
        "Dans cette étape de cleansing , l'idée est d'appliquer un ensemble de traitement pour nettoyer et uniformiser la donnée :\n",
        "\n",
        "1.   Uniformisation du format des dates : les dates dans les fichiers ont plusieurs format différents ( 01/01/2019 , 2020-01-01 , \"1 January 2020\" ) donc il faut uniformiser le format pour pouvoir les traiter.\n",
        "2. Gestion du mauvais encodage : exemple \"Journal of emergency nursing\\xc3\\x28\".\n",
        "3. Suppression des espaces non nécéssaires.\n",
        "4. Autres traitements possibles (non appliqués dans cet exercice): Gestion des valeurs nulles , gestion des doublons , gestion des caractères spéciaux.\n",
        "\n",
        "\n",
        "\n",
        "\n"
      ],
      "metadata": {
        "id": "_Unv8x1TaypR"
      }
    },
    {
      "cell_type": "code",
      "source": [
        "\n",
        "# Fonction pour définir un format uniforme pour les dates 'YYYY-MM-DD'\n",
        "def format_date(df, date_column):\n",
        "    df[date_column] = pd.to_datetime(df[date_column], errors='coerce', format=None)\n",
        "    df[date_column] = df[date_column].dt.strftime('%Y-%m-%d')\n",
        "    return df\n",
        "\n",
        "clinical_trials_df = format_date(clinical_trials_df, 'date')\n",
        "pubmed_csv_df = format_date(pubmed_csv_df, 'date')\n",
        "pubmed_json_df = format_date(pubmed_json_df, 'date')\n",
        "\n"
      ],
      "metadata": {
        "id": "aV8eqMJqtjLM"
      },
      "execution_count": 18,
      "outputs": []
    },
    {
      "cell_type": "code",
      "source": [
        "\n",
        "print(\"\\nClinical Trials Data:\")\n",
        "print(clinical_trials_df.head())\n",
        "\n",
        "print(\"\\nPubMed CSV Data:\")\n",
        "print(pubmed_csv_df.head())\n",
        "\n",
        "print(\"\\nPubMed JSON Data:\")\n",
        "print(pubmed_json_df.head())"
      ],
      "metadata": {
        "colab": {
          "base_uri": "https://localhost:8080/"
        },
        "id": "AEVENg_SufMH",
        "outputId": "f9d19faf-87be-4cd0-a3c3-e3d3c4bd33c1"
      },
      "execution_count": 19,
      "outputs": [
        {
          "output_type": "stream",
          "name": "stdout",
          "text": [
            "\n",
            "Clinical Trials Data:\n",
            "            id  \\\n",
            "0  NCT01967433   \n",
            "1  NCT04189588   \n",
            "2  NCT04237090   \n",
            "3  NCT04237091   \n",
            "4  NCT04153396   \n",
            "\n",
            "                                                                                                                                                        scientific_title  \\\n",
            "0                                                                    Use of Diphenhydramine as an Adjunctive Sedative for Colonoscopy in Patients Chronically on Opioids   \n",
            "1                                                                                   Phase 2 Study IV QUZYTTIR™ (Cetirizine Hydrochloride Injection) vs V Diphenhydramine   \n",
            "2                                                                                                                                                                          \n",
            "3  Feasibility of a Randomized Controlled Clinical Trial Comparing the Use of Cetirizine to Replace Diphenhydramine in the Prevention of Reactions Related to Paclitaxel   \n",
            "4                                              Preemptive Infiltration With Betamethasone and Ropivacaine for Postoperative Pain in Laminoplasty or \\xc3\\xb1 Laminectomy   \n",
            "\n",
            "         date                            journal  \n",
            "0  2020-01-01       Journal of emergency nursing  \n",
            "1  2020-01-01       Journal of emergency nursing  \n",
            "2  2020-01-01       Journal of emergency nursing  \n",
            "3  2020-01-01       Journal of emergency nursing  \n",
            "4  2020-01-01  Hôpitaux Universitaires de Genève  \n",
            "\n",
            "PubMed CSV Data:\n",
            "   id  \\\n",
            "0   1   \n",
            "1   2   \n",
            "2   3   \n",
            "3   4   \n",
            "4   5   \n",
            "\n",
            "                                                                                                                             title  \\\n",
            "0                         A 44-year-old man with erythema of the face diphenhydramine, neck, and chest, weakness, and palpitations   \n",
            "1  An evaluation of benadryl, pyribenzamine, and other so-called diphenhydramine antihistaminic drugs in the treatment of allergy.   \n",
            "2                                                        Diphenhydramine hydrochloride helps symptoms of ciguatera fish poisoning.   \n",
            "3                                                        Tetracycline Resistance Patterns of Lactobacillus buchneri Group Strains.   \n",
            "4                                                                    Appositional Tetracycline bone formation rates in the Beagle.   \n",
            "\n",
            "         date                                  journal  \n",
            "0  2019-01-01             Journal of emergency nursing  \n",
            "1  2019-01-01             Journal of emergency nursing  \n",
            "2  2019-02-01                The Journal of pediatrics  \n",
            "3  2020-01-01               Journal of food protection  \n",
            "4  2020-02-01  American journal of veterinary research  \n",
            "\n",
            "PubMed JSON Data:\n",
            "   id  \\\n",
            "0   9   \n",
            "1  10   \n",
            "2  11   \n",
            "3  12   \n",
            "4       \n",
            "\n",
            "                                                                                                                                                                   title  \\\n",
            "0  Gold nanoparticles synthesized from Euphorbia fischeriana root by green route method alleviates the isoprenaline hydrochloride induced myocardial infarction in rats.   \n",
            "1                                                                           Clinical implications of umbilical artery Doppler changes after betamethasone administration   \n",
            "2                                                         Effects of Topical Application of Betamethasone on Imiquimod-induced Psoriasis-like Skin Inflammation in Mice.   \n",
            "3                              Comparison of pressure release, phonophoresis and dry needling in treatment of latent myofascial trigger point of upper trapezius muscle.   \n",
            "4       Comparison of pressure BETAMETHASONE release, phonophoresis and dry needling in treatment of latent myofascial trigger point of upper trapezius ATROPINE muscle.   \n",
            "\n",
            "         date                                                 journal  \n",
            "0  2020-01-01  Journal of photochemistry and photobiology. B, Biology  \n",
            "1  2020-01-01       The journal of maternal-fetal & neonatal medicine  \n",
            "2  2020-01-01      Journal of back and musculoskeletal rehabilitation  \n",
            "3  2020-01-03      Journal of back and musculoskeletal rehabilitation  \n",
            "4  2020-01-03       The journal of maternal-fetal & neonatal medicine  \n"
          ]
        }
      ]
    },
    {
      "cell_type": "code",
      "source": [
        "# Fonction pour corriger les problèmes d'encodage\n",
        "def correct_encoding(text):\n",
        "    if isinstance(text, str):\n",
        "        try:\n",
        "            text = bytes(text, 'utf-8').decode('unicode_escape')\n",
        "            text = text.encode('latin1').decode('utf-8', errors='ignore')\n",
        "        except UnicodeDecodeError:\n",
        "            pass\n",
        "    return text\n",
        "\n",
        "# Fonction pour appliquer le correctif sur les colonnes de texte ( str ) uniquement\n",
        "def clean_text_columns(df):\n",
        "    text_columns = df.select_dtypes(include=['object']).columns\n",
        "    for column in text_columns:\n",
        "        df[column] = df[column].apply(correct_encoding)\n",
        "    return df\n"
      ],
      "metadata": {
        "id": "GQp-4oguht8b"
      },
      "execution_count": 20,
      "outputs": []
    },
    {
      "cell_type": "code",
      "source": [
        "\n",
        "\n",
        "clinical_trials_df = clean_text_columns(clinical_trials_df)\n",
        "pubmed_csv_df = clean_text_columns(pubmed_csv_df)\n",
        "pubmed_json_df = clean_text_columns(pubmed_json_df)\n",
        "\n",
        "\n",
        "pd.set_option('display.max_colwidth', None)\n",
        "\n",
        "\n",
        "print(clinical_trials_df)\n",
        "print(pubmed_csv_df)\n",
        "print(pubmed_json_df)\n"
      ],
      "metadata": {
        "colab": {
          "base_uri": "https://localhost:8080/"
        },
        "id": "FSFbf0MJAjko",
        "outputId": "c0fdd412-fe05-424f-dec9-224474bd96f6"
      },
      "execution_count": 21,
      "outputs": [
        {
          "output_type": "stream",
          "name": "stdout",
          "text": [
            "            id  \\\n",
            "0  NCT01967433   \n",
            "1  NCT04189588   \n",
            "2  NCT04237090   \n",
            "3  NCT04237091   \n",
            "4  NCT04153396   \n",
            "5  NCT03490942   \n",
            "6          NaN   \n",
            "7  NCT04188184   \n",
            "\n",
            "                                                                                                                                                        scientific_title  \\\n",
            "0                                                                    Use of Diphenhydramine as an Adjunctive Sedative for Colonoscopy in Patients Chronically on Opioids   \n",
            "1                                                                                   Phase 2 Study IV QUZYTTIR™ (Cetirizine Hydrochloride Injection) vs V Diphenhydramine   \n",
            "2                                                                                                                                                                          \n",
            "3  Feasibility of a Randomized Controlled Clinical Trial Comparing the Use of Cetirizine to Replace Diphenhydramine in the Prevention of Reactions Related to Paclitaxel   \n",
            "4                                                     Preemptive Infiltration With Betamethasone and Ropivacaine for Postoperative Pain in Laminoplasty or ñ Laminectomy   \n",
            "5                                                          Glucagon Infusion in T1D Patients With Recurrent Severe Hypoglycemia: Effects on Counter-Regulatory Responses   \n",
            "6                                                          Glucagon Infusion in T1D Patients With Recurrent Severe Hypoglycemia: Effects on Counter-Regulatory Responses   \n",
            "7                                                                                                      Tranexamic Acid Versus Epinephrine During Exploratory Tympanotomy   \n",
            "\n",
            "         date                            journal  \n",
            "0  2020-01-01       Journal of emergency nursing  \n",
            "1  2020-01-01       Journal of emergency nursing  \n",
            "2  2020-01-01       Journal of emergency nursing  \n",
            "3  2020-01-01       Journal of emergency nursing  \n",
            "4  2020-01-01  Hôpitaux Universitaires de Genève  \n",
            "5         NaN                                NaN  \n",
            "6         NaN       Journal of emergency nursing  \n",
            "7  2020-04-27      Journal of emergency nursing(  \n",
            "   id  \\\n",
            "0   1   \n",
            "1   2   \n",
            "2   3   \n",
            "3   4   \n",
            "4   5   \n",
            "5   6   \n",
            "6   7   \n",
            "7   8   \n",
            "\n",
            "                                                                                                                                                                    title  \\\n",
            "0                                                                A 44-year-old man with erythema of the face diphenhydramine, neck, and chest, weakness, and palpitations   \n",
            "1                                         An evaluation of benadryl, pyribenzamine, and other so-called diphenhydramine antihistaminic drugs in the treatment of allergy.   \n",
            "2                                                                                               Diphenhydramine hydrochloride helps symptoms of ciguatera fish poisoning.   \n",
            "3                                                                                               Tetracycline Resistance Patterns of Lactobacillus buchneri Group Strains.   \n",
            "4                                                                                                           Appositional Tetracycline bone formation rates in the Beagle.   \n",
            "5  Rapid reacquisition of contextual fear following extinction in mice: effects of amount of extinction, tetracycline acute ethanol withdrawal, and ethanol intoxication.   \n",
            "6                                                                                                   The High Cost of Epinephrine Autoinjectors and Possible Alternatives.   \n",
            "7           Time to epinephrine treatment is associated with the risk of mortality in children who achieve sustained ROSC after traumatic out-of-hospital cardiac arrest.   \n",
            "\n",
            "         date                                                      journal  \n",
            "0  2019-01-01                                 Journal of emergency nursing  \n",
            "1  2019-01-01                                 Journal of emergency nursing  \n",
            "2  2019-02-01                                    The Journal of pediatrics  \n",
            "3  2020-01-01                                   Journal of food protection  \n",
            "4  2020-02-01                      American journal of veterinary research  \n",
            "5         NaN                                           Psychopharmacology  \n",
            "6  2020-01-02  The journal of allergy and clinical immunology. In practice  \n",
            "7  2020-01-03  The journal of allergy and clinical immunology. In practice  \n",
            "   id  \\\n",
            "0   9   \n",
            "1  10   \n",
            "2  11   \n",
            "3  12   \n",
            "4       \n",
            "\n",
            "                                                                                                                                                                   title  \\\n",
            "0  Gold nanoparticles synthesized from Euphorbia fischeriana root by green route method alleviates the isoprenaline hydrochloride induced myocardial infarction in rats.   \n",
            "1                                                                           Clinical implications of umbilical artery Doppler changes after betamethasone administration   \n",
            "2                                                         Effects of Topical Application of Betamethasone on Imiquimod-induced Psoriasis-like Skin Inflammation in Mice.   \n",
            "3                              Comparison of pressure release, phonophoresis and dry needling in treatment of latent myofascial trigger point of upper trapezius muscle.   \n",
            "4       Comparison of pressure BETAMETHASONE release, phonophoresis and dry needling in treatment of latent myofascial trigger point of upper trapezius ATROPINE muscle.   \n",
            "\n",
            "         date                                                 journal  \n",
            "0  2020-01-01  Journal of photochemistry and photobiology. B, Biology  \n",
            "1  2020-01-01       The journal of maternal-fetal & neonatal medicine  \n",
            "2  2020-01-01      Journal of back and musculoskeletal rehabilitation  \n",
            "3  2020-01-03      Journal of back and musculoskeletal rehabilitation  \n",
            "4  2020-01-03       The journal of maternal-fetal & neonatal medicine  \n"
          ]
        }
      ]
    },
    {
      "cell_type": "code",
      "source": [
        "# Fonction pour supprimer les espaces non nécéssaires\n",
        "def clean_text_column(column):\n",
        "\n",
        "    return column.apply(lambda x: x.strip() if isinstance(x, str) else x)\n"
      ],
      "metadata": {
        "id": "FTCg463Jso55"
      },
      "execution_count": 22,
      "outputs": []
    },
    {
      "cell_type": "code",
      "source": [
        "# Appliquer clean_text_column sur des colonnes spécifiques dans clinical_trials_df\n",
        "clinical_trials_df['scientific_title'] = clean_text_column(clinical_trials_df['scientific_title'])\n",
        "\n",
        "# Appliquer clean_text_column sur la colonne 'title' dans pubmed_csv_df\n",
        "pubmed_csv_df['title'] = clean_text_column(pubmed_csv_df['title'])\n",
        "\n",
        "# Appliquer clean_text_column sur la colonne 'title' dans pubmed_json_df\n",
        "pubmed_json_df['title'] = clean_text_column(pubmed_json_df['title'])\n",
        "\n",
        "drugs_df['drug'] = clean_text_column(drugs_df['drug'])\n"
      ],
      "metadata": {
        "id": "679v1G3xvHKE"
      },
      "execution_count": 23,
      "outputs": []
    },
    {
      "cell_type": "code",
      "source": [
        "print(\"\\nClinical Trials Data:\")\n",
        "print(clinical_trials_df)\n",
        "\n",
        "print(\"\\nPubMed CSV Data:\")\n",
        "print(pubmed_csv_df)\n",
        "\n",
        "print(\"\\nPubMed JSON Data:\")\n",
        "print(pubmed_json_df)\n",
        "\n",
        "print(\"\\Drugs Data:\")\n",
        "print(drugs_df)"
      ],
      "metadata": {
        "colab": {
          "base_uri": "https://localhost:8080/"
        },
        "id": "2YkLpzHutkx1",
        "outputId": "be3b1537-9a2e-44ef-9383-d6671a533a78"
      },
      "execution_count": 24,
      "outputs": [
        {
          "output_type": "stream",
          "name": "stdout",
          "text": [
            "\n",
            "Clinical Trials Data:\n",
            "            id  \\\n",
            "0  NCT01967433   \n",
            "1  NCT04189588   \n",
            "2  NCT04237090   \n",
            "3  NCT04237091   \n",
            "4  NCT04153396   \n",
            "5  NCT03490942   \n",
            "6          NaN   \n",
            "7  NCT04188184   \n",
            "\n",
            "                                                                                                                                                        scientific_title  \\\n",
            "0                                                                    Use of Diphenhydramine as an Adjunctive Sedative for Colonoscopy in Patients Chronically on Opioids   \n",
            "1                                                                                   Phase 2 Study IV QUZYTTIR™ (Cetirizine Hydrochloride Injection) vs V Diphenhydramine   \n",
            "2                                                                                                                                                                          \n",
            "3  Feasibility of a Randomized Controlled Clinical Trial Comparing the Use of Cetirizine to Replace Diphenhydramine in the Prevention of Reactions Related to Paclitaxel   \n",
            "4                                                     Preemptive Infiltration With Betamethasone and Ropivacaine for Postoperative Pain in Laminoplasty or ñ Laminectomy   \n",
            "5                                                          Glucagon Infusion in T1D Patients With Recurrent Severe Hypoglycemia: Effects on Counter-Regulatory Responses   \n",
            "6                                                          Glucagon Infusion in T1D Patients With Recurrent Severe Hypoglycemia: Effects on Counter-Regulatory Responses   \n",
            "7                                                                                                      Tranexamic Acid Versus Epinephrine During Exploratory Tympanotomy   \n",
            "\n",
            "         date                            journal  \n",
            "0  2020-01-01       Journal of emergency nursing  \n",
            "1  2020-01-01       Journal of emergency nursing  \n",
            "2  2020-01-01       Journal of emergency nursing  \n",
            "3  2020-01-01       Journal of emergency nursing  \n",
            "4  2020-01-01  Hôpitaux Universitaires de Genève  \n",
            "5         NaN                                NaN  \n",
            "6         NaN       Journal of emergency nursing  \n",
            "7  2020-04-27      Journal of emergency nursing(  \n",
            "\n",
            "PubMed CSV Data:\n",
            "   id  \\\n",
            "0   1   \n",
            "1   2   \n",
            "2   3   \n",
            "3   4   \n",
            "4   5   \n",
            "5   6   \n",
            "6   7   \n",
            "7   8   \n",
            "\n",
            "                                                                                                                                                                    title  \\\n",
            "0                                                                A 44-year-old man with erythema of the face diphenhydramine, neck, and chest, weakness, and palpitations   \n",
            "1                                         An evaluation of benadryl, pyribenzamine, and other so-called diphenhydramine antihistaminic drugs in the treatment of allergy.   \n",
            "2                                                                                               Diphenhydramine hydrochloride helps symptoms of ciguatera fish poisoning.   \n",
            "3                                                                                               Tetracycline Resistance Patterns of Lactobacillus buchneri Group Strains.   \n",
            "4                                                                                                           Appositional Tetracycline bone formation rates in the Beagle.   \n",
            "5  Rapid reacquisition of contextual fear following extinction in mice: effects of amount of extinction, tetracycline acute ethanol withdrawal, and ethanol intoxication.   \n",
            "6                                                                                                   The High Cost of Epinephrine Autoinjectors and Possible Alternatives.   \n",
            "7           Time to epinephrine treatment is associated with the risk of mortality in children who achieve sustained ROSC after traumatic out-of-hospital cardiac arrest.   \n",
            "\n",
            "         date                                                      journal  \n",
            "0  2019-01-01                                 Journal of emergency nursing  \n",
            "1  2019-01-01                                 Journal of emergency nursing  \n",
            "2  2019-02-01                                    The Journal of pediatrics  \n",
            "3  2020-01-01                                   Journal of food protection  \n",
            "4  2020-02-01                      American journal of veterinary research  \n",
            "5         NaN                                           Psychopharmacology  \n",
            "6  2020-01-02  The journal of allergy and clinical immunology. In practice  \n",
            "7  2020-01-03  The journal of allergy and clinical immunology. In practice  \n",
            "\n",
            "PubMed JSON Data:\n",
            "   id  \\\n",
            "0   9   \n",
            "1  10   \n",
            "2  11   \n",
            "3  12   \n",
            "4       \n",
            "\n",
            "                                                                                                                                                                   title  \\\n",
            "0  Gold nanoparticles synthesized from Euphorbia fischeriana root by green route method alleviates the isoprenaline hydrochloride induced myocardial infarction in rats.   \n",
            "1                                                                           Clinical implications of umbilical artery Doppler changes after betamethasone administration   \n",
            "2                                                         Effects of Topical Application of Betamethasone on Imiquimod-induced Psoriasis-like Skin Inflammation in Mice.   \n",
            "3                              Comparison of pressure release, phonophoresis and dry needling in treatment of latent myofascial trigger point of upper trapezius muscle.   \n",
            "4       Comparison of pressure BETAMETHASONE release, phonophoresis and dry needling in treatment of latent myofascial trigger point of upper trapezius ATROPINE muscle.   \n",
            "\n",
            "         date                                                 journal  \n",
            "0  2020-01-01  Journal of photochemistry and photobiology. B, Biology  \n",
            "1  2020-01-01       The journal of maternal-fetal & neonatal medicine  \n",
            "2  2020-01-01      Journal of back and musculoskeletal rehabilitation  \n",
            "3  2020-01-03      Journal of back and musculoskeletal rehabilitation  \n",
            "4  2020-01-03       The journal of maternal-fetal & neonatal medicine  \n",
            "\\Drugs Data:\n",
            "   atccode             drug\n",
            "0    A04AD  DIPHENHYDRAMINE\n",
            "1    S03AA     TETRACYCLINE\n",
            "2    V03AB          ETHANOL\n",
            "3    A03BA         ATROPINE\n",
            "4    A01AD      EPINEPHRINE\n",
            "5  6302001     ISOPRENALINE\n",
            "6    R01AD    BETAMETHASONE\n"
          ]
        }
      ]
    },
    {
      "cell_type": "markdown",
      "source": [
        "# Data pipeline\n",
        "\n",
        "\n",
        "1.  Mention des médicaments\n"
      ],
      "metadata": {
        "id": "eG1qv-A129DC"
      }
    },
    {
      "cell_type": "code",
      "source": [
        "\n",
        "\n",
        "# Fonction pour trouver les mentions de médicaments , générer le fichier JSON en sortie, et afficher son contenu\n",
        "def get_mentions_graph(df_list, titles, drugs_list,sources, output_file):\n",
        "    mentions_graph = {}\n",
        "\n",
        "\n",
        "    for df, title, source in zip(df_list, titles, sources):\n",
        "        for drug in drugs_list:\n",
        "            # Recherche des mentions dans la colonne des titres\n",
        "            matches = df[df[title].str.contains(drug, case=False, na=False)]\n",
        "            for _, row in matches.iterrows():\n",
        "                # Créer un nœud pour chaque médicament s'il n'existe pas encore\n",
        "                if drug not in mentions_graph:\n",
        "                    mentions_graph[drug] = []\n",
        "\n",
        "                # Ajouter chaque mention comme une liaison avec journal, date , titre et source\n",
        "                mentions_graph[drug].append({\n",
        "                    'journal': row['journal'],\n",
        "                    'date': row['date'],\n",
        "                    'title': row[title],\n",
        "                    'type': source # la source est soit PubMed soit Clinical Trials\n",
        "                })\n",
        "\n",
        "    # Exporter directement le graphe en fichier JSON\n",
        "    with open(output_file, 'w') as json_file:\n",
        "        json.dump(mentions_graph, json_file, indent=4)\n",
        "\n",
        "    # Afficher le contenu de mentions_graph\n",
        "    print(json.dumps(mentions_graph, indent=4))\n",
        "\n",
        "    print(f\"Fichier JSON généré : {output_file}\")\n",
        "\n"
      ],
      "metadata": {
        "id": "wohfBRQGD3AT"
      },
      "execution_count": 25,
      "outputs": []
    },
    {
      "cell_type": "code",
      "source": [
        "\n",
        "# Liste des médicaments\n",
        "drug_names = drugs_df['drug'].tolist()\n",
        "\n",
        "# Liste des df de données\n",
        "df_list = [clinical_trials_df, pubmed_csv_df, pubmed_json_df]\n",
        "\n",
        "# Liste des noms de colonnes de titres\n",
        "titles = ['scientific_title', 'title', 'title']\n",
        "\n",
        "sources = ['ClinicalTrials', 'PubMed', 'PubMed']\n",
        "\n",
        "get_mentions_graph(df_list, titles, drug_names,sources, 'mentions_graph_output.json')"
      ],
      "metadata": {
        "colab": {
          "base_uri": "https://localhost:8080/"
        },
        "id": "dxNlzQelQ4gG",
        "outputId": "6b26347b-292e-4339-921e-1925eb417c00"
      },
      "execution_count": 26,
      "outputs": [
        {
          "output_type": "stream",
          "name": "stdout",
          "text": [
            "{\n",
            "    \"DIPHENHYDRAMINE\": [\n",
            "        {\n",
            "            \"journal\": \"Journal of emergency nursing\",\n",
            "            \"date\": \"2020-01-01\",\n",
            "            \"title\": \"Use of Diphenhydramine as an Adjunctive Sedative for Colonoscopy in Patients Chronically on Opioids\",\n",
            "            \"type\": \"ClinicalTrials\"\n",
            "        },\n",
            "        {\n",
            "            \"journal\": \"Journal of emergency nursing\",\n",
            "            \"date\": \"2020-01-01\",\n",
            "            \"title\": \"Phase 2 Study IV QUZYTTIR\\u2122 (Cetirizine Hydrochloride Injection) vs V Diphenhydramine\",\n",
            "            \"type\": \"ClinicalTrials\"\n",
            "        },\n",
            "        {\n",
            "            \"journal\": \"Journal of emergency nursing\",\n",
            "            \"date\": \"2020-01-01\",\n",
            "            \"title\": \"Feasibility of a Randomized Controlled Clinical Trial Comparing the Use of Cetirizine to Replace Diphenhydramine in the Prevention of Reactions Related to Paclitaxel\",\n",
            "            \"type\": \"ClinicalTrials\"\n",
            "        },\n",
            "        {\n",
            "            \"journal\": \"Journal of emergency nursing\",\n",
            "            \"date\": \"2019-01-01\",\n",
            "            \"title\": \"A 44-year-old man with erythema of the face diphenhydramine, neck, and chest, weakness, and palpitations\",\n",
            "            \"type\": \"PubMed\"\n",
            "        },\n",
            "        {\n",
            "            \"journal\": \"Journal of emergency nursing\",\n",
            "            \"date\": \"2019-01-01\",\n",
            "            \"title\": \"An evaluation of benadryl, pyribenzamine, and other so-called diphenhydramine antihistaminic drugs in the treatment of allergy.\",\n",
            "            \"type\": \"PubMed\"\n",
            "        },\n",
            "        {\n",
            "            \"journal\": \"The Journal of pediatrics\",\n",
            "            \"date\": \"2019-02-01\",\n",
            "            \"title\": \"Diphenhydramine hydrochloride helps symptoms of ciguatera fish poisoning.\",\n",
            "            \"type\": \"PubMed\"\n",
            "        }\n",
            "    ],\n",
            "    \"EPINEPHRINE\": [\n",
            "        {\n",
            "            \"journal\": \"Journal of emergency nursing(\",\n",
            "            \"date\": \"2020-04-27\",\n",
            "            \"title\": \"Tranexamic Acid Versus Epinephrine During Exploratory Tympanotomy\",\n",
            "            \"type\": \"ClinicalTrials\"\n",
            "        },\n",
            "        {\n",
            "            \"journal\": \"The journal of allergy and clinical immunology. In practice\",\n",
            "            \"date\": \"2020-01-02\",\n",
            "            \"title\": \"The High Cost of Epinephrine Autoinjectors and Possible Alternatives.\",\n",
            "            \"type\": \"PubMed\"\n",
            "        },\n",
            "        {\n",
            "            \"journal\": \"The journal of allergy and clinical immunology. In practice\",\n",
            "            \"date\": \"2020-01-03\",\n",
            "            \"title\": \"Time to epinephrine treatment is associated with the risk of mortality in children who achieve sustained ROSC after traumatic out-of-hospital cardiac arrest.\",\n",
            "            \"type\": \"PubMed\"\n",
            "        }\n",
            "    ],\n",
            "    \"BETAMETHASONE\": [\n",
            "        {\n",
            "            \"journal\": \"H\\u00f4pitaux Universitaires de Gen\\u00e8ve\",\n",
            "            \"date\": \"2020-01-01\",\n",
            "            \"title\": \"Preemptive Infiltration With Betamethasone and Ropivacaine for Postoperative Pain in Laminoplasty or \\u00f1 Laminectomy\",\n",
            "            \"type\": \"ClinicalTrials\"\n",
            "        },\n",
            "        {\n",
            "            \"journal\": \"The journal of maternal-fetal & neonatal medicine\",\n",
            "            \"date\": \"2020-01-01\",\n",
            "            \"title\": \"Clinical implications of umbilical artery Doppler changes after betamethasone administration\",\n",
            "            \"type\": \"PubMed\"\n",
            "        },\n",
            "        {\n",
            "            \"journal\": \"Journal of back and musculoskeletal rehabilitation\",\n",
            "            \"date\": \"2020-01-01\",\n",
            "            \"title\": \"Effects of Topical Application of Betamethasone on Imiquimod-induced Psoriasis-like Skin Inflammation in Mice.\",\n",
            "            \"type\": \"PubMed\"\n",
            "        },\n",
            "        {\n",
            "            \"journal\": \"The journal of maternal-fetal & neonatal medicine\",\n",
            "            \"date\": \"2020-01-03\",\n",
            "            \"title\": \"Comparison of pressure BETAMETHASONE release, phonophoresis and dry needling in treatment of latent myofascial trigger point of upper trapezius ATROPINE muscle.\",\n",
            "            \"type\": \"PubMed\"\n",
            "        }\n",
            "    ],\n",
            "    \"TETRACYCLINE\": [\n",
            "        {\n",
            "            \"journal\": \"Journal of food protection\",\n",
            "            \"date\": \"2020-01-01\",\n",
            "            \"title\": \"Tetracycline Resistance Patterns of Lactobacillus buchneri Group Strains.\",\n",
            "            \"type\": \"PubMed\"\n",
            "        },\n",
            "        {\n",
            "            \"journal\": \"American journal of veterinary research\",\n",
            "            \"date\": \"2020-02-01\",\n",
            "            \"title\": \"Appositional Tetracycline bone formation rates in the Beagle.\",\n",
            "            \"type\": \"PubMed\"\n",
            "        },\n",
            "        {\n",
            "            \"journal\": \"Psychopharmacology\",\n",
            "            \"date\": NaN,\n",
            "            \"title\": \"Rapid reacquisition of contextual fear following extinction in mice: effects of amount of extinction, tetracycline acute ethanol withdrawal, and ethanol intoxication.\",\n",
            "            \"type\": \"PubMed\"\n",
            "        }\n",
            "    ],\n",
            "    \"ETHANOL\": [\n",
            "        {\n",
            "            \"journal\": \"Psychopharmacology\",\n",
            "            \"date\": NaN,\n",
            "            \"title\": \"Rapid reacquisition of contextual fear following extinction in mice: effects of amount of extinction, tetracycline acute ethanol withdrawal, and ethanol intoxication.\",\n",
            "            \"type\": \"PubMed\"\n",
            "        }\n",
            "    ],\n",
            "    \"ATROPINE\": [\n",
            "        {\n",
            "            \"journal\": \"The journal of maternal-fetal & neonatal medicine\",\n",
            "            \"date\": \"2020-01-03\",\n",
            "            \"title\": \"Comparison of pressure BETAMETHASONE release, phonophoresis and dry needling in treatment of latent myofascial trigger point of upper trapezius ATROPINE muscle.\",\n",
            "            \"type\": \"PubMed\"\n",
            "        }\n",
            "    ],\n",
            "    \"ISOPRENALINE\": [\n",
            "        {\n",
            "            \"journal\": \"Journal of photochemistry and photobiology. B, Biology\",\n",
            "            \"date\": \"2020-01-01\",\n",
            "            \"title\": \"Gold nanoparticles synthesized from Euphorbia fischeriana root by green route method alleviates the isoprenaline hydrochloride induced myocardial infarction in rats.\",\n",
            "            \"type\": \"PubMed\"\n",
            "        }\n",
            "    ]\n",
            "}\n",
            "Fichier JSON généré : mentions_graph_output.json\n"
          ]
        }
      ]
    },
    {
      "cell_type": "markdown",
      "source": [],
      "metadata": {
        "id": "SkdZLwm5Eh3R"
      }
    },
    {
      "cell_type": "markdown",
      "source": [
        "# Traitement ad-hoc\n",
        "\n",
        "Le nom du journal qui mentionne le plus de médicaments différents:\n"
      ],
      "metadata": {
        "id": "WJi1LZnsEiKL"
      }
    },
    {
      "cell_type": "code",
      "source": [
        "\n",
        "\n",
        "# Fonction pour trouver le journal qui mentionne le plus de médicaments différents\n",
        "def journal_with_most_drug_mentions(mentions_graph):\n",
        "    journal_dict = {}\n",
        "\n",
        "    # Parcourir chaque médicament et ses mentions\n",
        "    for drug, mentions in mentions_graph.items():\n",
        "        for mention in mentions:\n",
        "            journal = mention['journal']\n",
        "            # Ajouter le journal au dictionnaire\n",
        "            if journal not in journal_dict:\n",
        "                journal_dict[journal] = set() # Initialiser un set pour l'unicité des éléments\n",
        "            journal_dict[journal].add(drug)\n",
        "\n",
        "    # Trouver le journal avec le plus de médicaments différents\n",
        "    max_drugs_journal = max(journal_dict, key=lambda j: len(journal_dict[j]))\n",
        "    return max_drugs_journal, len(journal_dict[max_drugs_journal])\n"
      ],
      "metadata": {
        "id": "-OTJTuziE0Sk"
      },
      "execution_count": 27,
      "outputs": []
    },
    {
      "cell_type": "code",
      "source": [
        "\n",
        "with open('mentions_graph_output.json', 'r') as json_file:\n",
        "    mentions_graph = json.load(json_file)\n",
        "\n",
        "# Appel de la fonction pour trouver le journal avec le plus de mentions\n",
        "journal, count = journal_with_most_drug_mentions(mentions_graph)\n",
        "print(f\"Le journal qui mentionne le plus de médicaments différents est {journal} avec {count} médicaments mentionnés.\")"
      ],
      "metadata": {
        "colab": {
          "base_uri": "https://localhost:8080/"
        },
        "id": "hlYoRExoJKKm",
        "outputId": "634309b0-3086-44fd-a2f0-4a421d525be3"
      },
      "execution_count": 28,
      "outputs": [
        {
          "output_type": "stream",
          "name": "stdout",
          "text": [
            "Le journal qui mentionne le plus de médicaments différents est The journal of maternal-fetal & neonatal medicine avec 2 médicaments mentionnés.\n"
          ]
        }
      ]
    },
    {
      "cell_type": "markdown",
      "source": [
        "\n",
        "\n",
        "\n",
        "L’ensemble des médicaments mentionnés par les mêmes\n",
        "journaux référencés par les publications scientifiques (PubMed) mais non les tests cliniques (Clinical\n",
        "Trials):"
      ],
      "metadata": {
        "id": "om4JJKbOgZdC"
      }
    },
    {
      "cell_type": "code",
      "source": [
        "def drugs_in_same_pubmed_journals(drug, mentions_graph):\n",
        "    # Trouver les journaux dans lesquels le médicament donné est mentionné (seulement PubMed)\n",
        "    pubmed_journals = set()\n",
        "\n",
        "\n",
        "    if drug in mentions_graph:\n",
        "        for mention in mentions_graph[drug]:\n",
        "            # Ne prendre en compte que les mentions dans PubMed\n",
        "            if mention['type'] == 'PubMed':\n",
        "                pubmed_journals.add(mention['journal']) # Le nom du journal est ajouté à pubmed_journals s'il est de type PubMed et qu'il fait partie des mentions du médicament donné\n",
        "\n",
        "    # Trouver les autres médicaments mentionnés dans les journaux de pubmed_journals\n",
        "    other_mentionned_drugs = set()\n",
        "\n",
        "    # Parcourir les autres médicaments dans mentions_graph\n",
        "    for other_drug, mentions in mentions_graph.items():\n",
        "        if other_drug != drug:  # Exclure le médicament initial\n",
        "            for mention in mentions_graph[other_drug]:\n",
        "                # Vérifier si le médicament est mentionné dans les mêmes journaux, uniquement de PubMed\n",
        "                if mention['journal'] in pubmed_journals and mention['type'] == 'PubMed':\n",
        "                    other_mentionned_drugs.add(other_drug)\n",
        "\n",
        "    return other_mentionned_drugs\n"
      ],
      "metadata": {
        "id": "oFUxjPx6gpt6"
      },
      "execution_count": 29,
      "outputs": []
    },
    {
      "cell_type": "code",
      "source": [
        "def load_mentions_graph(file_path):\n",
        "    with open(file_path, 'r') as json_file:\n",
        "        return json.load(json_file)\n",
        "\n",
        "mentions_graph = load_mentions_graph('mentions_graph_output.json')\n",
        "\n",
        "\n",
        "# Exemple d'application\n",
        "drug = 'TETRACYCLINE'\n",
        "other_mentionned_drugs = drugs_in_same_pubmed_journals(drug, mentions_graph)\n",
        "\n",
        "print(f\"Les médicaments mentionnés dans les mêmes journaux que {drug} (uniquement PubMed) sont : {other_mentionned_drugs}\")\n"
      ],
      "metadata": {
        "colab": {
          "base_uri": "https://localhost:8080/"
        },
        "id": "v4-t2iiFmpnQ",
        "outputId": "23a94f5a-71a2-4543-cd50-d27f14b5aa76"
      },
      "execution_count": 30,
      "outputs": [
        {
          "output_type": "stream",
          "name": "stdout",
          "text": [
            "Les médicaments mentionnés dans les mêmes journaux que TETRACYCLINE (uniquement PubMed) sont : {'ETHANOL'}\n"
          ]
        }
      ]
    },
    {
      "cell_type": "markdown",
      "source": [
        "# Pour aller plus loin\n"
      ],
      "metadata": {
        "id": "_QrwiNGvnknK"
      }
    },
    {
      "cell_type": "markdown",
      "source": [
        "Eléments à considérer pour faire évoluer le code pour de grosses volumétries de données :\n",
        "\n",
        "1.   Partitionnement des données : si la donnés est énorme cela peut être utile de partitionner par date par exemple ou autre(s) colonne(s) pertinentes  \n",
        "2.   Orchestration des pipelines avec Airflow par exemple pour organiser et automatiser l'exécution des tâches\n",
        "3. Parallélisation du traitement de données\n",
        "4. Indexation : Créer des index sur les colonnes utilisées pour les filtres,   les jointures afin d'accélérer les opérations de lecture et de recherche.\n",
        "5. Logging , Monitoring et gestion des erreurs : utiliser des logs et des outils de monitoring pour suivre les performances des data pipelines + intégrer une bonne gestion d'erreur pour éviter de bloquer le fonctionnement du pipeline\n",
        "6. Utiliser des systèmes de cache pour stocker les résultats intermédiaires d’un pipeline ou les données fréquemment consultées pour éviter de tout recalculer à chaque fois.\n",
        "\n"
      ],
      "metadata": {
        "id": "sQyX0mmVKLm8"
      }
    },
    {
      "cell_type": "markdown",
      "source": [
        "# II) SQL\n",
        "\n",
        "Première partie du test:\n",
        "\n",
        "\n",
        "\n",
        "\n",
        "```\n",
        "SELECT date , SUM(prod_price*prod_qty) FROM TRANSACTIONS\n",
        "WHERE date BETWEEN '2020-01-01' AND '2020-12-31'\n",
        "GROUP BY date\n",
        "ORDER BY date ASC;\n",
        "```\n",
        "\n"
      ],
      "metadata": {
        "id": "ykf_BF_jn0-H"
      }
    },
    {
      "cell_type": "markdown",
      "source": [
        "Seconde partie du test\n",
        "\n",
        "\n",
        "\n",
        "```\n",
        "SELECT\n",
        "  t.client_id,\n",
        "  SUM(CASE WHEN pn.product_type = 'MEUBLE' THEN t.prod_price * t.prod_qty ELSE 0 END) AS ventes_meuble,\n",
        "  SUM(CASE WHEN pn.product_type = 'DECO' THEN t.prod_price * t.prod_qty ELSE 0 END) AS ventes_deco\n",
        "FROM\n",
        "  TRANSACTIONS t\n",
        "JOIN\n",
        "  PRODUCT_NOMENCLATURE pn\n",
        "ON\n",
        "  t.prod_id = pn.product_id\n",
        "GROUP BY\n",
        "  t.client_id\n",
        ";\n",
        "\n",
        "```\n",
        "\n"
      ],
      "metadata": {
        "id": "PHAN1cYstO5B"
      }
    }
  ]
}